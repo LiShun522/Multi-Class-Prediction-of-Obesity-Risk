{
 "cells": [
  {
   "cell_type": "code",
   "execution_count": 1,
   "id": "0325eda4-6795-4966-9b87-8c3a3a2db966",
   "metadata": {},
   "outputs": [],
   "source": [
    "import pandas as pd\n",
    "import numpy as np\n",
    "import pickle\n",
    "from sklearn.preprocessing import StandardScaler"
   ]
  },
  {
   "cell_type": "code",
   "execution_count": 2,
   "id": "4c575cf9-8acf-44b1-a349-23108204c469",
   "metadata": {},
   "outputs": [],
   "source": [
    "# 讀取數據\n",
    "data = pd.read_csv(\"data/train.csv\")\n",
    "data.drop(columns=[\"id\"], inplace=True)"
   ]
  },
  {
   "cell_type": "code",
   "execution_count": 3,
   "id": "daf0935b-370a-421c-aecc-82c8bdc1d1c7",
   "metadata": {},
   "outputs": [],
   "source": [
    "# One-Hot Encoding\n",
    "data = pd.get_dummies(data, columns=[\"Gender\"], drop_first=True)"
   ]
  },
  {
   "cell_type": "code",
   "execution_count": 4,
   "id": "bf093ac3-2e7d-4cb4-92cf-a290cbb5339b",
   "metadata": {},
   "outputs": [],
   "source": [
    "# 標準化\n",
    "std_scaler = StandardScaler()\n",
    "data[[\"Age\", \"Height\", \"Weight\"]] = std_scaler.fit_transform(data[[\"Age\", \"Height\", \"Weight\"]])"
   ]
  },
  {
   "cell_type": "code",
   "execution_count": 5,
   "id": "aa481026-0571-4a6b-8eea-dfee3fc65a28",
   "metadata": {},
   "outputs": [],
   "source": [
    "# 0/1類型轉換\n",
    "yes_no_mapping = {\"yes\":1, \"no\":0}\n",
    "binary_features = [\"family_history_with_overweight\", \"FAVC\", \"SMOKE\", \"SCC\"]\n",
    "for feature in binary_features:\n",
    "    data[feature] = data[feature].map(yes_no_mapping)"
   ]
  },
  {
   "cell_type": "code",
   "execution_count": 6,
   "id": "7658ff1c-7451-4575-9457-4fe8b15221a3",
   "metadata": {},
   "outputs": [],
   "source": [
    "# Label Encoding\n",
    "CAEC_mapping = {\"no\": 0, \"Sometimes\": 1, \"Frequently\": 2, \"Always\": 3}\n",
    "CALC_mapping = {\"no\": 0, \"Sometimes\": 1, \"Frequently\": 2}\n",
    "NObeyesdad_mapping = {\n",
    "    \"Insufficient_Weight\": 0, \"Normal_Weight\": 1, \"Overweight_Level_I\": 2,\n",
    "    \"Overweight_Level_II\": 3, \"Obesity_Type_I\": 4, \"Obesity_Type_II\": 5, \"Obesity_Type_III\": 6\n",
    "}\n",
    "data[\"CAEC\"] = data[\"CAEC\"].map(CAEC_mapping)\n",
    "data[\"CALC\"] = data[\"CALC\"].map(CALC_mapping)\n",
    "data[\"NObeyesdad\"] = data[\"NObeyesdad\"].map(NObeyesdad_mapping)"
   ]
  },
  {
   "cell_type": "code",
   "execution_count": 7,
   "id": "bc24b8ec-d0a1-439f-836f-2e305a115f5a",
   "metadata": {},
   "outputs": [],
   "source": [
    "# One-Hot Encoding for \"MTRANS\"\n",
    "def one_hot_encode(data, field_name):\n",
    "    field_value = data[field_name].value_counts().index\n",
    "    new_field_name = []\n",
    "    for value in field_value:\n",
    "        fn = field_name + \"_\" + value\n",
    "        data[fn] = (data[field_name] == value).astype('int64')\n",
    "        new_field_name.append(fn)\n",
    "    return new_field_name\n",
    "\n",
    "one_hot_fields = one_hot_encode(data, \"MTRANS\")\n",
    "data.drop(columns=[\"MTRANS\"], inplace=True)"
   ]
  },
  {
   "cell_type": "code",
   "execution_count": 8,
   "id": "104777e1-c57f-464b-85cb-7ab9c65e14d6",
   "metadata": {},
   "outputs": [],
   "source": [
    "# 存處理後的 `train.pkl`\n",
    "data.to_pickle(\"data/train.pkl\")"
   ]
  },
  {
   "cell_type": "code",
   "execution_count": 9,
   "id": "a405a4aa-2489-43c3-abf9-e739d29aafcb",
   "metadata": {},
   "outputs": [],
   "source": [
    "# 存 StandardScaler, One-Hot Encoding 欄位, Label Encoding 規則\n",
    "with open(\"data/preprocessing.pkl\", \"wb\") as f:\n",
    "    pickle.dump({\"scaler\": std_scaler, \"one_hot_fields\": one_hot_fields, \n",
    "                 \"CAEC_mapping\": CAEC_mapping, \"CALC_mapping\": CALC_mapping}, f)"
   ]
  }
 ],
 "metadata": {
  "kernelspec": {
   "display_name": "Python 3 (ipykernel)",
   "language": "python",
   "name": "python3"
  },
  "language_info": {
   "codemirror_mode": {
    "name": "ipython",
    "version": 3
   },
   "file_extension": ".py",
   "mimetype": "text/x-python",
   "name": "python",
   "nbconvert_exporter": "python",
   "pygments_lexer": "ipython3",
   "version": "3.11.9"
  }
 },
 "nbformat": 4,
 "nbformat_minor": 5
}
