{
 "cells": [
  {
   "cell_type": "code",
   "execution_count": 101,
   "id": "5d975d95-6c10-4e3f-9aa5-8fef1c2c62dd",
   "metadata": {},
   "outputs": [],
   "source": [
    "import pandas as pd\n",
    "import pickle\n",
    "import numpy as np\n",
    "# 讀取測試數據\n",
    "test_data = pd.read_csv(\"data/test.csv\")"
   ]
  },
  {
   "cell_type": "code",
   "execution_count": 102,
   "id": "79f4f006-1b33-4d0d-b16e-3f3b5fe91810",
   "metadata": {},
   "outputs": [],
   "source": [
    "# **保存原始的 \"id\" 欄位\n",
    "test_ids = test_data[\"id\"] if \"id\" in test_data.columns else range(len(test_data))"
   ]
  },
  {
   "cell_type": "code",
   "execution_count": 103,
   "id": "e4d41292-546e-4d2c-929b-24795c712a72",
   "metadata": {},
   "outputs": [],
   "source": [
    "# 測試數據包含 \"id\" 欄位，先移除\n",
    "test_data.drop(columns=[\"id\"], inplace=True)"
   ]
  },
  {
   "cell_type": "code",
   "execution_count": 104,
   "id": "41f11a8a-a65d-412d-ad73-4a6938d57b48",
   "metadata": {},
   "outputs": [],
   "source": [
    "# 讀取 \"preprocessing.pkl\"\n",
    "with open(\"data/preprocessing.pkl\", \"rb\") as f:\n",
    "    preprocessor = pickle.load(f)"
   ]
  },
  {
   "cell_type": "code",
   "execution_count": 105,
   "id": "95a03dde-901e-4b45-8f53-8b1e9ae9793a",
   "metadata": {},
   "outputs": [],
   "source": [
    "# 從preprocessing.pkl取得\n",
    "# \"StandardScaler\", \"one_hot_fields\", \"CAEC_mapping\", \"CALC_mapping\"\n",
    "std_scaler = preprocessor[\"scaler\"]\n",
    "one_hot_fields = preprocessor[\"one_hot_fields\"]  # train.csv 的 One-Hot 欄位\n",
    "CAEC_mapping = preprocessor[\"CAEC_mapping\"]\n",
    "CALC_mapping = preprocessor[\"CALC_mapping\"]"
   ]
  },
  {
   "cell_type": "code",
   "execution_count": 106,
   "id": "e5b165e7-dc7d-454a-81bf-b2f070b6dd10",
   "metadata": {},
   "outputs": [],
   "source": [
    "# One-Hot Encoding \"Gender\"\n",
    "test_data = pd.get_dummies(test_data, columns=[\"Gender\"], drop_first=True)"
   ]
  },
  {
   "cell_type": "code",
   "execution_count": 107,
   "id": "f6852e46-2ade-4c4b-9921-7460761dbc69",
   "metadata": {},
   "outputs": [],
   "source": [
    "# 標準化 (\"Age\", \"Height\", \"Weight\")\n",
    "test_data[[\"Age\", \"Height\", \"Weight\"]] = std_scaler.transform(test_data[[\"Age\", \"Height\", \"Weight\"]])"
   ]
  },
  {
   "cell_type": "code",
   "execution_count": 108,
   "id": "ae735e39-cdcd-4ea5-90fa-a60fa4f44a9c",
   "metadata": {},
   "outputs": [],
   "source": [
    "# 0/1 類型轉換\n",
    "yes_no_mapping = {\"yes\": 1, \"no\": 0}\n",
    "binary_features = [\"family_history_with_overweight\", \"FAVC\", \"SMOKE\", \"SCC\"]\n",
    "for feature in binary_features:\n",
    "    test_data[feature] = test_data[feature].map(yes_no_mapping).astype(int)"
   ]
  },
  {
   "cell_type": "code",
   "execution_count": 109,
   "id": "2b372dbb-23e9-411a-920f-93780bc9a284",
   "metadata": {},
   "outputs": [],
   "source": [
    "# Label Encoding\n",
    "test_data[\"CAEC\"] = test_data[\"CAEC\"].map(CAEC_mapping)\n",
    "test_data[\"CALC\"] = test_data[\"CALC\"].map(CALC_mapping)"
   ]
  },
  {
   "cell_type": "code",
   "execution_count": 110,
   "id": "5c27c738-835f-4691-9322-d36eb55cb41a",
   "metadata": {},
   "outputs": [],
   "source": [
    "# One-Hot Encoding for \"MTRANS\"**\n",
    "def one_hot_encode(data, field_name, known_values):\n",
    "    \"\"\"確保 test.csv 的 One-Hot 欄位與 train.csv 一致\"\"\"\n",
    "    for value in known_values:\n",
    "        new_col = f\"{field_name}_{value}\"\n",
    "        data[new_col] = (data[field_name] == value).astype(int)\n",
    "    return data\n",
    "\n",
    "# 取得 train.csv 中 MTRANS 的所有類別\n",
    "MTRANS_categories = [col.replace(\"MTRANS_\", \"\") for col in one_hot_fields]\n",
    "test_data = one_hot_encode(test_data, \"MTRANS\", MTRANS_categories)\n",
    "\n",
    "# 刪除原始的 MTRANS 欄位\n",
    "test_data.drop(columns=[\"MTRANS\"], inplace=True)"
   ]
  },
  {
   "cell_type": "code",
   "execution_count": 111,
   "id": "955867d6-61e6-4937-ad05-d4f1e418f4fe",
   "metadata": {},
   "outputs": [
    {
     "data": {
      "text/plain": [
       "Age                               0\n",
       "Height                            0\n",
       "Weight                            0\n",
       "family_history_with_overweight    0\n",
       "FAVC                              0\n",
       "FCVC                              0\n",
       "NCP                               0\n",
       "CAEC                              0\n",
       "SMOKE                             0\n",
       "CH2O                              0\n",
       "SCC                               0\n",
       "FAF                               0\n",
       "TUE                               0\n",
       "CALC                              0\n",
       "Gender_Male                       0\n",
       "MTRANS_Public_Transportation      0\n",
       "MTRANS_Automobile                 0\n",
       "MTRANS_Walking                    0\n",
       "MTRANS_Motorbike                  0\n",
       "MTRANS_Bike                       0\n",
       "dtype: int64"
      ]
     },
     "execution_count": 111,
     "metadata": {},
     "output_type": "execute_result"
    }
   ],
   "source": [
    "test_data.isnull().sum()"
   ]
  },
  {
   "cell_type": "code",
   "execution_count": 32,
   "id": "9abe7d4e-bf87-4eab-b762-822dfba4f864",
   "metadata": {},
   "outputs": [],
   "source": [
    "# 確保所有數據型態為 float32 或 int \n",
    "test_data = test_data.astype(np.float32)  # XGBoost 只接受 float32 或 int ，但 bool也可"
   ]
  },
  {
   "cell_type": "code",
   "execution_count": 33,
   "id": "e3a46e42-d4bc-40ad-871b-bb91b03e08c8",
   "metadata": {},
   "outputs": [],
   "source": [
    "# 模型位置跟名稱請依照上一個階段，儲存的時候路徑與命名"
   ]
  },
  {
   "cell_type": "code",
   "execution_count": 112,
   "id": "991f4c75-f4ab-41d5-bf83-4c6c93aceb26",
   "metadata": {},
   "outputs": [],
   "source": [
    "# 載入 XGBoost 模型\n",
    "with open(\"./model/250302_model.pkl\", \"rb\") as f:\n",
    "    loaded_model = pickle.load(f)"
   ]
  },
  {
   "cell_type": "code",
   "execution_count": 113,
   "id": "6910568f-d97a-424c-b361-2e1246cdfdb3",
   "metadata": {},
   "outputs": [],
   "source": [
    "# 進行測試集預測\n",
    "predictions = loaded_model.predict(test_data)"
   ]
  },
  {
   "cell_type": "code",
   "execution_count": 114,
   "id": "35065ef7-3747-4df4-9cd6-6590c1c73382",
   "metadata": {},
   "outputs": [
    {
     "data": {
      "text/plain": [
       "array([5, 2, 6, ..., 0, 1, 5], dtype=int64)"
      ]
     },
     "execution_count": 114,
     "metadata": {},
     "output_type": "execute_result"
    }
   ],
   "source": [
    "# 預測結果，為一個 numpy array\n",
    "predictions"
   ]
  },
  {
   "cell_type": "code",
   "execution_count": 115,
   "id": "d7f27178-f76d-4ccb-826c-f0b3f1e68c61",
   "metadata": {},
   "outputs": [],
   "source": [
    "# 轉換 NObeyesdad 類別回原始名稱\n",
    "NObeyesdad_mapping = {\n",
    "    0: \"Insufficient_Weight\", \n",
    "    1: \"Normal_Weight\", \n",
    "    2: \"Overweight_Level_I\",\n",
    "    3: \"Overweight_Level_II\", \n",
    "    4: \"Obesity_Type_I\", \n",
    "    5: \"Obesity_Type_II\", \n",
    "    6: \"Obesity_Type_III\"\n",
    "}\n",
    "# 轉換成pandas使用 map 方法將數值預測結果轉換為對應的體重類別名稱\n",
    "predictions = pd.Series(predictions).map(NObeyesdad_mapping).tolist()"
   ]
  },
  {
   "cell_type": "code",
   "execution_count": 116,
   "id": "dcfc936e-21d4-470b-b91d-05406a5393fc",
   "metadata": {},
   "outputs": [
    {
     "name": "stdout",
     "output_type": "stream",
     "text": [
      "結果儲存至 submission.csv\n"
     ]
    }
   ],
   "source": [
    "# 儲存最終 submission.csv\n",
    "submission = pd.DataFrame({\"id\": test_ids, \"NObeyesdad\": predictions})\n",
    "submission.to_csv(\"submission.csv\", index=False)\n",
    "print(\"結果儲存至 submission.csv\")"
   ]
  },
  {
   "cell_type": "code",
   "execution_count": null,
   "id": "705e5408-d519-49b8-a2af-eb5846d7fa25",
   "metadata": {},
   "outputs": [],
   "source": []
  }
 ],
 "metadata": {
  "kernelspec": {
   "display_name": "Python 3 (ipykernel)",
   "language": "python",
   "name": "python3"
  },
  "language_info": {
   "codemirror_mode": {
    "name": "ipython",
    "version": 3
   },
   "file_extension": ".py",
   "mimetype": "text/x-python",
   "name": "python",
   "nbconvert_exporter": "python",
   "pygments_lexer": "ipython3",
   "version": "3.11.9"
  }
 },
 "nbformat": 4,
 "nbformat_minor": 5
}
